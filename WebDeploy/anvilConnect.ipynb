{
 "cells": [
  {
   "cell_type": "markdown",
   "id": "a67ae100",
   "metadata": {},
   "source": [
    "### WEB Application Deployment using Anvil"
   ]
  },
  {
   "cell_type": "code",
   "execution_count": null,
   "id": "94029a17",
   "metadata": {},
   "outputs": [],
   "source": [
    "!pip install anvil-uplink"
   ]
  },
  {
   "cell_type": "code",
   "execution_count": null,
   "id": "8594f02a",
   "metadata": {},
   "outputs": [],
   "source": [
    "import keras\n",
    "from keras.models import load_model\n",
    "import os\n",
    "import anvil.media\n",
    "import numpy as np\n",
    "from keras.preprocessing import image\n",
    "from keras.preprocessing.sequence import pad_sequences"
   ]
  },
  {
   "cell_type": "code",
   "execution_count": null,
   "id": "73c5258a",
   "metadata": {},
   "outputs": [],
   "source": [
    "DiabeticRetDir = '/Users/Sarmita Majumdar/Desktop/HealthCare-Research/DR-SMit'\n",
    "WebDeploy = '/Users/Sarmita Majumdar/Desktop/HealthCare-Research/DR-SMit'\n",
    "wordVocabDir = '/Users/Sarmita Majumdar/Desktop/HealthCare-Research/DR-SMit'"
   ]
  },
  {
   "cell_type": "code",
   "execution_count": null,
   "id": "20d2338b",
   "metadata": {},
   "outputs": [],
   "source": [
    "model = load_model('/Users/Sarmita Majumdar/Desktop/HealthCare-Research/model.h5')\n",
    "chatModel = load_model('/Users/Sarmita Majumdar/Desktop/HealthCare-Research/model.h5')"
   ]
  },
  {
   "cell_type": "code",
   "execution_count": null,
   "id": "74b2b5cd",
   "metadata": {},
   "outputs": [],
   "source": [
    "import pickle\n",
    "vocab = pickle.load(open(os.path.join(wordVocabDir, \"vocab.pkl\"), \"rb\"))\n",
    "#stop_words = pickle.load(open(os.path.join(wordVocabDir, \"stop_words.pkl\"), \"rb\"))\n",
    "word_idx = pickle.load(open(os.path.join(wordVocabDir, \"word_idx.pkl\"), \"rb\"))"
   ]
  },
  {
   "cell_type": "code",
   "execution_count": null,
   "id": "1b9376b9",
   "metadata": {},
   "outputs": [],
   "source": [
    "import anvil.server\n",
    "\n",
    "anvil.server.connect(\"server_NSJ7MAYS6P7R6SCDPLGKKJBO-4PF74Z2M734HFLBH\")"
   ]
  },
  {
   "cell_type": "markdown",
   "id": "4326050d",
   "metadata": {},
   "source": [
    "### Prediction of Retinopathy"
   ]
  },
  {
   "cell_type": "code",
   "execution_count": null,
   "id": "96c3694c",
   "metadata": {},
   "outputs": [],
   "source": [
    "import anvil.media\n",
    "import numpy as np\n",
    "from keras.preprocessing import image\n",
    "@anvil.server.callable\n",
    "def classify_image(file):\n",
    "    with anvil.media.TempFile(file) as filename:\n",
    "        img = load_img(filename)\n",
    "        \n",
    "    img = img.resize((150,150), resample=PIL.Image.BICUBIC)\n",
    "    arr = img_to_array(img)\n",
    "    arr = np.expand_dims(arr, axis=0)\n",
    "    arr /= 255.0\n",
    "    \n",
    "    score = model.predict(arr)\n",
    "    \n",
    "    return score"
   ]
  },
  {
   "cell_type": "code",
   "execution_count": null,
   "id": "058f5a0a",
   "metadata": {},
   "outputs": [],
   "source": [
    "import anvil.media\n",
    "@anvil.server.callable\n",
    "def classify_image(file):\n",
    "    with anvil.media.TempFile(file) as filename:\n",
    "        img = image.load_img(filename, target_size=(150,150))\n",
    "    img_tensor = image.img_to_array(img)\n",
    "    img_tensor = np.expand_dims(img_tensor, axis=0)\n",
    "    img_tensor /= 255.\n",
    "    \n",
    "    score = model.predict(img_tensor)\n",
    "    \n",
    "    return score, np.argmax(score)\n",
    "\n",
    "anvil.server.wait_forever()"
   ]
  },
  {
   "cell_type": "code",
   "execution_count": null,
   "id": "ddfe642f",
   "metadata": {},
   "outputs": [],
   "source": []
  }
 ],
 "metadata": {
  "kernelspec": {
   "display_name": "Python 3 (ipykernel)",
   "language": "python",
   "name": "python3"
  },
  "language_info": {
   "codemirror_mode": {
    "name": "ipython",
    "version": 3
   },
   "file_extension": ".py",
   "mimetype": "text/x-python",
   "name": "python",
   "nbconvert_exporter": "python",
   "pygments_lexer": "ipython3",
   "version": "3.11.4"
  }
 },
 "nbformat": 4,
 "nbformat_minor": 5
}
